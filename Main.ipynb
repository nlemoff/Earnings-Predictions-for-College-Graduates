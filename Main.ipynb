{
  "cells": [
    {
      "cell_type": "code",
      "metadata": {
        "source_hash": "655837d5",
        "execution_start": 1701844211361,
        "execution_millis": 4866,
        "deepnote_to_be_reexecuted": false,
        "cell_id": "229d896e7c5147829eea1830c4ef30dd",
        "deepnote_cell_type": "code",
        "id": "WJK4prTdUfgD",
        "outputId": "fd4afd53-21cd-4b9c-a69b-5239ca628e14"
      },
      "source": [
        "import pandas as pd\n",
        "from sklearn.model_selection import train_test_split\n",
        "from sklearn.linear_model import LinearRegression, Ridge\n",
        "from sklearn.ensemble import RandomForestRegressor, VotingRegressor\n",
        "from sklearn.metrics import mean_squared_error, r2_score\n",
        "from sklearn.preprocessing import StandardScaler, OneHotEncoder\n",
        "from sklearn.impute import SimpleImputer\n",
        "from sklearn.compose import ColumnTransformer\n",
        "from sklearn.pipeline import Pipeline\n",
        "import matplotlib.pyplot as plt\n",
        "import seaborn as sns\n",
        "\n",
        "\n",
        "\n",
        "file_path = '/work/recent-grads.csv'\n",
        "df = pd.read_csv(file_path)\n",
        "\n",
        "X = df.drop(columns=['Median', 'P25th', 'P75th', 'Rank'])  # Excluding 'Median', 'P25th', 'P75th', 'Rank'\n",
        "y = df['Median']\n",
        "\n",
        "categorical_features = ['Major', 'Major_category']  # Update with actual categorical columns\n",
        "numerical_features = X.select_dtypes(include=['int64', 'float64']).columns.tolist()\n",
        "\n",
        "categorical_transformer = Pipeline(steps=[\n",
        "    ('imputer', SimpleImputer(strategy='most_frequent')),\n",
        "    ('onehot', OneHotEncoder(handle_unknown='ignore'))\n",
        "])\n",
        "\n",
        "numerical_transformer = Pipeline(steps=[\n",
        "    ('imputer', SimpleImputer(strategy='mean')),\n",
        "    ('scaler', StandardScaler())\n",
        "])\n",
        "\n",
        "preprocessor = ColumnTransformer(\n",
        "    transformers=[\n",
        "        ('num', numerical_transformer, numerical_features),\n",
        "        ('cat', categorical_transformer, categorical_features)\n",
        "    ]\n",
        ")\n",
        "\n",
        "\n",
        "linear_model = LinearRegression()\n",
        "ridge_model = Ridge(alpha=10, solver='auto', random_state=42)\n",
        "random_forest_model = RandomForestRegressor(\n",
        "    n_estimators=100,\n",
        "    max_depth=20,\n",
        "    min_samples_split=2,\n",
        "    min_samples_leaf=1,\n",
        "    max_features='log2',\n",
        "    random_state=42\n",
        ")\n",
        "\n",
        "ensemble = VotingRegressor(\n",
        "    estimators=[\n",
        "        ('lr', linear_model),\n",
        "        ('ridge', ridge_model),\n",
        "        ('rf', random_forest_model)\n",
        "    ]\n",
        ")\n",
        "\n",
        "pipeline = Pipeline(steps=[\n",
        "    ('preprocessor', preprocessor),\n",
        "    ('regressor', ensemble)\n",
        "])\n",
        "\n",
        "X_train, X_test, y_train, y_test = train_test_split(X, y, test_size=0.2, random_state=42)\n",
        "pipeline.fit(X_train, y_train)\n",
        "y_pred = pipeline.predict(X_test)\n",
        "mse = mean_squared_error(y_test, y_pred)\n",
        "r2 = r2_score(y_test, y_pred)\n",
        "\n",
        "print(f'Mean Squared Error: {mse}')\n",
        "print(f'R² Score: {r2}')\n"
      ],
      "execution_count": null,
      "outputs": [
        {
          "name": "stdout",
          "text": "Mean Squared Error: 30379958.186316635\nR² Score: 0.6529812594587423\n",
          "output_type": "stream"
        }
      ]
    },
    {
      "cell_type": "code",
      "metadata": {
        "source_hash": "ba18c562",
        "execution_start": 1701844216246,
        "execution_millis": 1327,
        "deepnote_to_be_reexecuted": false,
        "cell_id": "aea381a073af4c3e929ea383987dfaa9",
        "deepnote_cell_type": "code",
        "id": "CCby6BoQUfgG",
        "outputId": "21aaa807-fa32-43d8-a95d-eaef7bf04e75"
      },
      "source": [
        "# Creating a pipeline for each model\n",
        "pipeline_lr = Pipeline(steps=[('preprocessor', preprocessor), ('regressor', LinearRegression())])\n",
        "pipeline_ridge = Pipeline(steps=[('preprocessor', preprocessor), ('regressor', Ridge(alpha=10, solver='auto', random_state=42))])\n",
        "pipeline_rf = Pipeline(steps=[('preprocessor', preprocessor), ('regressor', RandomForestRegressor(n_estimators=100, max_depth=20, min_samples_split=2, min_samples_leaf=1, max_features='log2', random_state=42))])\n",
        "\n",
        "# Fit and evaluate each model\n",
        "pipeline_lr.fit(X_train, y_train)\n",
        "pipeline_ridge.fit(X_train, y_train)\n",
        "pipeline_rf.fit(X_train, y_train)\n",
        "\n",
        "lr_r2 = r2_score(y_test, pipeline_lr.predict(X_test))\n",
        "ridge_r2 = r2_score(y_test, pipeline_ridge.predict(X_test))\n",
        "rf_r2 = r2_score(y_test, pipeline_rf.predict(X_test))\n",
        "\n",
        "models_performance = {'Linear Regression': lr_r2, 'Ridge Regression': ridge_r2, 'Random Forest': rf_r2}\n",
        "\n",
        "\n",
        "plt.bar(models_performance.keys(), models_performance.values())\n",
        "plt.ylabel('R² Score')\n",
        "plt.title('Model Comparison')\n",
        "plt.show()\n",
        "\n"
      ],
      "execution_count": null,
      "outputs": [
        {
          "data": {
            "text/plain": "<Figure size 640x480 with 1 Axes>",
            "image/png": "[encoded data removed]"
          },
          "metadata": {
            "image/png": {
              "width": 567,
              "height": 435
            }
          },
          "output_type": "display_data"
        }
      ]
    },
    {
      "cell_type": "code",
      "metadata": {
        "source_hash": "39ff294b",
        "execution_start": 1701844217557,
        "execution_millis": 646,
        "deepnote_to_be_reexecuted": false,
        "cell_id": "3e36134580e544919eb68cb4f83aa9e4",
        "deepnote_cell_type": "code",
        "id": "k8jtkPwNUfgH",
        "outputId": "cc447831-9100-46dc-edef-29fcb29aa8fd"
      },
      "source": [
        "import matplotlib.pyplot as plt\n",
        "\n",
        "plt.scatter(y_test, y_pred)\n",
        "plt.xlabel('Actual Values')\n",
        "plt.ylabel('Predicted Values')\n",
        "plt.title('Actual vs Predicted Values')\n",
        "plt.plot([y_test.min(), y_test.max()], [y_test.min(), y_test.max()], 'k--', lw=2)\n",
        "plt.show()\n"
      ],
      "execution_count": null,
      "outputs": [
        {
          "data": {
            "text/plain": "<Figure size 640x480 with 1 Axes>",
            "image/png": "[encoded data removed]"
          },
          "metadata": {
            "image/png": {
              "width": 589,
              "height": 455
            }
          },
          "output_type": "display_data"
        }
      ]
    },
    {
      "cell_type": "code",
      "metadata": {
        "source_hash": "189aa06f",
        "execution_start": 1701844218213,
        "execution_millis": 609,
        "deepnote_to_be_reexecuted": false,
        "cell_id": "523723fca4a64f7f80676df4434a9b30",
        "deepnote_cell_type": "code",
        "id": "mtf0vZ7iUfgH",
        "outputId": "54ceae27-441b-449a-e613-d8e5b9d09ce5"
      },
      "source": [
        "residuals = y_test - y_pred\n",
        "\n",
        "plt.scatter(y_pred, residuals)\n",
        "plt.xlabel('Predicted Values')\n",
        "plt.ylabel('Residuals')\n",
        "plt.title('Residuals vs Predicted Values')\n",
        "plt.axhline(y=0, color='red', linestyle='--')\n",
        "plt.show()\n"
      ],
      "execution_count": null,
      "outputs": [
        {
          "data": {
            "text/plain": "<Figure size 640x480 with 1 Axes>",
            "image/png": "[encoded data removed]"
          },
          "metadata": {
            "image/png": {
              "width": 600,
              "height": 455
            }
          },
          "output_type": "display_data"
        }
      ]
    },
    {
      "cell_type": "code",
      "metadata": {
        "source_hash": "61c20d5b",
        "execution_start": 1701844218862,
        "execution_millis": 1098,
        "deepnote_to_be_reexecuted": false,
        "cell_id": "d108bcaa6767404ea2766945f07faba8",
        "deepnote_cell_type": "code",
        "id": "kNhpZMgqUfgH",
        "outputId": "b64712e6-2302-436c-d621-86b91d62f220"
      },
      "source": [
        "import numpy as np\n",
        "import matplotlib.pyplot as plt\n",
        "\n",
        "random_forest_model.fit(preprocessor.transform(X_train), y_train)\n",
        "\n",
        "\n",
        "feature_importances = random_forest_model.feature_importances_\n",
        "indices = np.argsort(feature_importances)[-15:]  # Get the indices of the top 20 features\n",
        "\n",
        "# Combine feature names\n",
        "all_features = numerical_features + list(preprocessor.named_transformers_['cat']['onehot'].get_feature_names_out(categorical_features))\n",
        "\n",
        "# Sort feature names based on their importance and select the top 20\n",
        "sorted_feature_names = [all_features[i] for i in indices]\n",
        "\n",
        "plt.figure(figsize=(10, 8))  # Adjust the size of the plot as needed\n",
        "plt.title('Top 15 Feature Importances in Random Forest')\n",
        "plt.barh(range(len(indices)), feature_importances[indices], color='b', align='center')\n",
        "plt.yticks(range(len(indices)), sorted_feature_names)\n",
        "plt.xlabel('Relative Importance')\n",
        "plt.show()\n",
        "\n"
      ],
      "execution_count": null,
      "outputs": [
        {
          "data": {
            "text/plain": "<Figure size 1000x800 with 1 Axes>",
            "image/png": "[encoded data removed]"
          },
          "metadata": {
            "image/png": {
              "width": 1002,
              "height": 701
            }
          },
          "output_type": "display_data"
        }
      ]
    },
    {
      "cell_type": "code",
      "metadata": {
        "source_hash": "b623e53d",
        "execution_start": 1701844219921,
        "execution_millis": 50,
        "deepnote_to_be_reexecuted": false,
        "cell_id": "1cd89fb3de084bb3b9530cd71c69a7f8",
        "deepnote_cell_type": "code",
        "id": "rFmbHkj9UfgI"
      },
      "source": [],
      "execution_count": null,
      "outputs": []
    },
    {
      "cell_type": "code",
      "metadata": {
        "source_hash": "b623e53d",
        "execution_start": 1701844219975,
        "execution_millis": 11,
        "deepnote_to_be_reexecuted": false,
        "cell_id": "bb5014d641c64a2d87132ad627b34421",
        "deepnote_cell_type": "code",
        "id": "V8fRyH7aUfgI"
      },
      "source": [],
      "execution_count": null,
      "outputs": []
    },
    {
      "cell_type": "code",
      "metadata": {
        "source_hash": "ee95435b",
        "execution_start": 1701844219976,
        "execution_millis": 1023,
        "deepnote_to_be_reexecuted": false,
        "cell_id": "14ab739cd6e340718f90ccf230d43c8a",
        "deepnote_cell_type": "code",
        "id": "5wywtUcPUfgI",
        "outputId": "06b98266-6ba3-43f0-8300-87309335d734"
      },
      "source": [
        "plt.figure(figsize=(15, 8))\n",
        "sns.boxplot(x='Major_category', y='Median', data=df)\n",
        "plt.xticks(rotation=90)\n",
        "plt.title('Distribution of Median Earnings by Major Category')\n",
        "plt.xlabel('Major Category')\n",
        "plt.ylabel('Median Earnings')\n",
        "plt.show()"
      ],
      "execution_count": null,
      "outputs": [
        {
          "data": {
            "text/plain": "<Figure size 1500x800 with 1 Axes>",
            "image/png": "[encoded data removed]"
          },
          "metadata": {
            "image/png": {
              "width": 1264,
              "height": 937
            }
          },
          "output_type": "display_data"
        }
      ]
    },
    {
      "cell_type": "code",
      "metadata": {
        "source_hash": "b623e53d",
        "execution_start": 1701844220982,
        "execution_millis": 35,
        "deepnote_to_be_reexecuted": false,
        "cell_id": "151538ca59f8461d949610360b1667c1",
        "deepnote_cell_type": "code",
        "id": "e5iuuCCuUfgJ"
      },
      "source": [],
      "execution_count": null,
      "outputs": []
    },
    {
      "cell_type": "code",
      "metadata": {
        "source_hash": "7eb5e126",
        "execution_start": 1701844221003,
        "execution_millis": 135,
        "deepnote_to_be_reexecuted": false,
        "cell_id": "e934b0335ca849b4af11d29e95944cd6",
        "deepnote_cell_type": "code",
        "id": "DTEfDnXdUfgJ",
        "outputId": "3b4311c6-69bd-4f5b-e62a-e1534435b932"
      },
      "source": [
        "# Example new major data (fill with your own values)\n",
        "new_major_data = {\n",
        "    'Major': ['Data Science at Berkeley'],\n",
        "    'Major_code': [1],\n",
        "    'Major_category': ['Computers & Mathematics'],\n",
        "    'Total': [600],\n",
        "    'Sample_size': [600],\n",
        "    'Men': [300],\n",
        "    'Women': [300],\n",
        "    'ShareWomen': [0.5],\n",
        "    'Employed': [580],\n",
        "    'Full_time': [560],\n",
        "    'Part_time': [20],\n",
        "    'Full_time_year_round': [560],\n",
        "    'Unemployed': [20],\n",
        "    'Unemployment_rate': [0.03],\n",
        "    'College_jobs': [560],  # Replace with actual value\n",
        "    'Non_college_jobs': [0],  # Replace with actual value\n",
        "    'Low_wage_jobs': [0]  # Replace with actual value\n",
        "}\n",
        "\n",
        "new_major_df = pd.DataFrame(new_major_data)\n",
        "\n",
        "\n",
        "new_major_preprocessed = pipeline.named_steps['preprocessor'].transform(new_major_df)\n",
        "\n",
        "predicted_median_earnings = pipeline.named_steps['regressor'].predict(new_major_preprocessed)\n",
        "\n",
        "print(f\"Predicted Median Earnings Adjusted for Inflation from 2011: {predicted_median_earnings[0] + (predicted_median_earnings[0]*0.368)}\")\n",
        "\n",
        "\n"
      ],
      "execution_count": null,
      "outputs": [
        {
          "name": "stdout",
          "text": "Predicted Median Earnings Adjusted for Inflation from 2011: 56739.621680102966\n",
          "output_type": "stream"
        }
      ]
    },
    {
      "cell_type": "code",
      "metadata": {
        "source_hash": "46f2da69",
        "execution_start": 1701844221050,
        "execution_millis": 108,
        "deepnote_to_be_reexecuted": false,
        "cell_id": "56d8bf0872854f5384acc1b688eeff7b",
        "deepnote_cell_type": "code",
        "id": "QBXFzM9ZUfgJ",
        "outputId": "6061a3ca-cbd6-4789-b4b5-dbb28aaa7a90"
      },
      "source": [
        "print(f\"Predicted Median Earnings Adjusted for Inflation and for California Cost of Living (42% higher): {(predicted_median_earnings[0] + (predicted_median_earnings[0]*0.368)*0.42) + predicted_median_earnings[0]}\")"
      ],
      "execution_count": null,
      "outputs": [
        {
          "name": "stdout",
          "text": "Predicted Median Earnings Adjusted for Inflation and for California Cost of Living (42% higher): 89363.24509289667\n",
          "output_type": "stream"
        }
      ]
    },
    {
      "cell_type": "code",
      "metadata": {
        "source_hash": "f804c160",
        "execution_start": 1701844335901,
        "execution_millis": 105,
        "deepnote_to_be_reexecuted": false,
        "cell_id": "1b8d62bd3e654233be975703024649da",
        "deepnote_cell_type": "code",
        "id": "EKM0-ePxUfgJ",
        "outputId": "eaf553f9-dc28-4efd-c849-132b2d2dd5a8"
      },
      "source": [
        "df"
      ],
      "execution_count": null,
      "outputs": [
        {
          "output_type": "execute_result",
          "execution_count": 11,
          "data": {
            "application/vnd.deepnote.dataframe.v3+json": {
              "column_count": 21,
              "row_count": 173,
              "columns": [
                {
                  "name": "Rank",
                  "dtype": "int64",
                  "stats": {
                    "unique_count": 173,
                    "nan_count": 0,
                    "min": "1",
                    "max": "173",
                    "histogram": [
                      {
                        "bin_start": 1,
                        "bin_end": 18.2,
                        "count": 18
                      },
                      {
                        "bin_start": 18.2,
                        "bin_end": 35.4,
                        "count": 17
                      },
                      {
                        "bin_start": 35.4,
                        "bin_end": 52.599999999999994,
                        "count": 17
                      },
                      {
                        "bin_start": 52.599999999999994,
                        "bin_end": 69.8,
                        "count": 17
                      },
                      {
                        "bin_start": 69.8,
                        "bin_end": 87,
                        "count": 17
                      },
                      {
                        "bin_start": 87,
                        "bin_end": 104.19999999999999,
                        "count": 18
                      },
                      {
                        "bin_start": 104.19999999999999,
                        "bin_end": 121.39999999999999,
                        "count": 17
                      },
                      {
                        "bin_start": 121.39999999999999,
                        "bin_end": 138.6,
                        "count": 17
                      },
                      {
                        "bin_start": 138.6,
                        "bin_end": 155.79999999999998,
                        "count": 17
                      },
                      {
                        "bin_start": 155.79999999999998,
                        "bin_end": 173,
                        "count": 18
                      }
                    ]
                  }
                },
                {
                  "name": "Major_code",
                  "dtype": "int64",
                  "stats": {
                    "unique_count": 173,
                    "nan_count": 0,
                    "min": "1100",
                    "max": "6403",
                    "histogram": [
                      {
                        "bin_start": 1100,
                        "bin_end": 1630.3,
                        "count": 13
                      },
                      {
                        "bin_start": 1630.3,
                        "bin_end": 2160.6,
                        "count": 11
                      },
                      {
                        "bin_start": 2160.6,
                        "bin_end": 2690.8999999999996,
                        "count": 46
                      },
                      {
                        "bin_start": 2690.8999999999996,
                        "bin_end": 3221.2,
                        "count": 3
                      },
                      {
                        "bin_start": 3221.2,
                        "bin_end": 3751.5,
                        "count": 20
                      },
                      {
                        "bin_start": 3751.5,
                        "bin_end": 4281.799999999999,
                        "count": 8
                      },
                      {
                        "bin_start": 4281.799999999999,
                        "bin_end": 4812.099999999999,
                        "count": 1
                      },
                      {
                        "bin_start": 4812.099999999999,
                        "bin_end": 5342.4,
                        "count": 20
                      },
                      {
                        "bin_start": 5342.4,
                        "bin_end": 5872.7,
                        "count": 15
                      },
                      {
                        "bin_start": 5872.7,
                        "bin_end": 6403,
                        "count": 36
                      }
                    ]
                  }
                },
                {
                  "name": "Major",
                  "dtype": "object",
                  "stats": {
                    "unique_count": 173,
                    "nan_count": 0,
                    "categories": [
                      {
                        "name": "PETROLEUM ENGINEERING",
                        "count": 1
                      },
                      {
                        "name": "MINING AND MINERAL ENGINEERING",
                        "count": 1
                      },
                      {
                        "name": "171 others",
                        "count": 171
                      }
                    ]
                  }
                },
                {
                  "name": "Total",
                  "dtype": "float64",
                  "stats": {
                    "unique_count": 172,
                    "nan_count": 1,
                    "min": "124.0",
                    "max": "393735.0",
                    "histogram": [
                      {
                        "bin_start": 124,
                        "bin_end": 39485.1,
                        "count": 130
                      },
                      {
                        "bin_start": 39485.1,
                        "bin_end": 78846.2,
                        "count": 20
                      },
                      {
                        "bin_start": 78846.2,
                        "bin_end": 118207.29999999999,
                        "count": 4
                      },
                      {
                        "bin_start": 118207.29999999999,
                        "bin_end": 157568.4,
                        "count": 6
                      },
                      {
                        "bin_start": 157568.4,
                        "bin_end": 196929.5,
                        "count": 4
                      },
                      {
                        "bin_start": 196929.5,
                        "bin_end": 236290.59999999998,
                        "count": 5
                      },
                      {
                        "bin_start": 236290.59999999998,
                        "bin_end": 275651.7,
                        "count": 0
                      },
                      {
                        "bin_start": 275651.7,
                        "bin_end": 315012.8,
                        "count": 1
                      },
                      {
                        "bin_start": 315012.8,
                        "bin_end": 354373.89999999997,
                        "count": 1
                      },
                      {
                        "bin_start": 354373.89999999997,
                        "bin_end": 393735,
                        "count": 1
                      }
                    ]
                  }
                },
                {
                  "name": "Men",
                  "dtype": "float64",
                  "stats": {
                    "unique_count": 172,
                    "nan_count": 1,
                    "min": "119.0",
                    "max": "173809.0",
                    "histogram": [
                      {
                        "bin_start": 119,
                        "bin_end": 17488,
                        "count": 132
                      },
                      {
                        "bin_start": 17488,
                        "bin_end": 34857,
                        "count": 20
                      },
                      {
                        "bin_start": 34857,
                        "bin_end": 52226,
                        "count": 3
                      },
                      {
                        "bin_start": 52226,
                        "bin_end": 69595,
                        "count": 3
                      },
                      {
                        "bin_start": 69595,
                        "bin_end": 86964,
                        "count": 6
                      },
                      {
                        "bin_start": 86964,
                        "bin_end": 104333,
                        "count": 4
                      },
                      {
                        "bin_start": 104333,
                        "bin_end": 121702,
                        "count": 2
                      },
                      {
                        "bin_start": 121702,
                        "bin_end": 139071,
                        "count": 1
                      },
                      {
                        "bin_start": 139071,
                        "bin_end": 156440,
                        "count": 0
                      },
                      {
                        "bin_start": 156440,
                        "bin_end": 173809,
                        "count": 1
                      }
                    ]
                  }
                },
                {
                  "name": "Women",
                  "dtype": "float64",
                  "stats": {
                    "unique_count": 171,
                    "nan_count": 1,
                    "min": "0.0",
                    "max": "307087.0",
                    "histogram": [
                      {
                        "bin_start": 0,
                        "bin_end": 30708.7,
                        "count": 139
                      },
                      {
                        "bin_start": 30708.7,
                        "bin_end": 61417.4,
                        "count": 16
                      },
                      {
                        "bin_start": 61417.4,
                        "bin_end": 92126.1,
                        "count": 6
                      },
                      {
                        "bin_start": 92126.1,
                        "bin_end": 122834.8,
                        "count": 3
                      },
                      {
                        "bin_start": 122834.8,
                        "bin_end": 153543.5,
                        "count": 3
                      },
                      {
                        "bin_start": 153543.5,
                        "bin_end": 184252.2,
                        "count": 3
                      },
                      {
                        "bin_start": 184252.2,
                        "bin_end": 214960.9,
                        "count": 1
                      },
                      {
                        "bin_start": 214960.9,
                        "bin_end": 245669.6,
                        "count": 0
                      },
                      {
                        "bin_start": 245669.6,
                        "bin_end": 276378.3,
                        "count": 0
                      },
                      {
                        "bin_start": 276378.3,
                        "bin_end": 307087,
                        "count": 1
                      }
                    ]
                  }
                },
                {
                  "name": "Major_category",
                  "dtype": "object",
                  "stats": {
                    "unique_count": 16,
                    "nan_count": 0,
                    "categories": [
                      {
                        "name": "Engineering",
                        "count": 29
                      },
                      {
                        "name": "Education",
                        "count": 16
                      },
                      {
                        "name": "14 others",
                        "count": 128
                      }
                    ]
                  }
                },
                {
                  "name": "ShareWomen",
                  "dtype": "float64",
                  "stats": {
                    "unique_count": 172,
                    "nan_count": 1,
                    "min": "0.0",
                    "max": "0.968953683",
                    "histogram": [
                      {
                        "bin_start": 0,
                        "bin_end": 0.09689536829999999,
                        "count": 3
                      },
                      {
                        "bin_start": 0.09689536829999999,
                        "bin_end": 0.19379073659999999,
                        "count": 14
                      },
                      {
                        "bin_start": 0.19379073659999999,
                        "bin_end": 0.29068610489999996,
                        "count": 16
                      },
                      {
                        "bin_start": 0.29068610489999996,
                        "bin_end": 0.38758147319999997,
                        "count": 22
                      },
                      {
                        "bin_start": 0.38758147319999997,
                        "bin_end": 0.4844768415,
                        "count": 19
                      },
                      {
                        "bin_start": 0.4844768415,
                        "bin_end": 0.5813722097999999,
                        "count": 21
                      },
                      {
                        "bin_start": 0.5813722097999999,
                        "bin_end": 0.6782675780999999,
                        "count": 25
                      },
                      {
                        "bin_start": 0.6782675780999999,
                        "bin_end": 0.7751629463999999,
                        "count": 29
                      },
                      {
                        "bin_start": 0.7751629463999999,
                        "bin_end": 0.8720583147,
                        "count": 11
                      },
                      {
                        "bin_start": 0.8720583147,
                        "bin_end": 0.968953683,
                        "count": 12
                      }
                    ]
                  }
                },
                {
                  "name": "Sample_size",
                  "dtype": "int64",
                  "stats": {
                    "unique_count": 147,
                    "nan_count": 0,
                    "min": "2",
                    "max": "4212",
                    "histogram": [
                      {
                        "bin_start": 2,
                        "bin_end": 423,
                        "count": 139
                      },
                      {
                        "bin_start": 423,
                        "bin_end": 844,
                        "count": 13
                      },
                      {
                        "bin_start": 844,
                        "bin_end": 1265,
                        "count": 7
                      },
                      {
                        "bin_start": 1265,
                        "bin_end": 1686,
                        "count": 5
                      },
                      {
                        "bin_start": 1686,
                        "bin_end": 2107,
                        "count": 2
                      },
                      {
                        "bin_start": 2107,
                        "bin_end": 2528,
                        "count": 3
                      },
                      {
                        "bin_start": 2528,
                        "bin_end": 2949,
                        "count": 3
                      },
                      {
                        "bin_start": 2949,
                        "bin_end": 3370,
                        "count": 0
                      },
                      {
                        "bin_start": 3370,
                        "bin_end": 3791,
                        "count": 0
                      },
                      {
                        "bin_start": 3791,
                        "bin_end": 4212,
                        "count": 1
                      }
                    ]
                  }
                },
                {
                  "name": "Employed",
                  "dtype": "int64",
                  "stats": {
                    "unique_count": 171,
                    "nan_count": 0,
                    "min": "0",
                    "max": "307933",
                    "histogram": [
                      {
                        "bin_start": 0,
                        "bin_end": 30793.3,
                        "count": 129
                      },
                      {
                        "bin_start": 30793.3,
                        "bin_end": 61586.6,
                        "count": 22
                      },
                      {
                        "bin_start": 61586.6,
                        "bin_end": 92379.9,
                        "count": 3
                      },
                      {
                        "bin_start": 92379.9,
                        "bin_end": 123173.2,
                        "count": 6
                      },
                      {
                        "bin_start": 123173.2,
                        "bin_end": 153966.5,
                        "count": 5
                      },
                      {
                        "bin_start": 153966.5,
                        "bin_end": 184759.8,
                        "count": 5
                      },
                      {
                        "bin_start": 184759.8,
                        "bin_end": 215553.1,
                        "count": 1
                      },
                      {
                        "bin_start": 215553.1,
                        "bin_end": 246346.4,
                        "count": 0
                      },
                      {
                        "bin_start": 246346.4,
                        "bin_end": 277139.7,
                        "count": 1
                      },
                      {
                        "bin_start": 277139.7,
                        "bin_end": 307933,
                        "count": 1
                      }
                    ]
                  }
                },
                {
                  "name": "Full_time",
                  "dtype": "int64",
                  "stats": {
                    "unique_count": 173,
                    "nan_count": 0,
                    "min": "111",
                    "max": "251540",
                    "histogram": [
                      {
                        "bin_start": 111,
                        "bin_end": 25253.9,
                        "count": 130
                      },
                      {
                        "bin_start": 25253.9,
                        "bin_end": 50396.8,
                        "count": 20
                      },
                      {
                        "bin_start": 50396.8,
                        "bin_end": 75539.70000000001,
                        "count": 5
                      },
                      {
                        "bin_start": 75539.70000000001,
                        "bin_end": 100682.6,
                        "count": 5
                      },
                      {
                        "bin_start": 100682.6,
                        "bin_end": 125825.5,
                        "count": 4
                      },
                      {
                        "bin_start": 125825.5,
                        "bin_end": 150968.40000000002,
                        "count": 3
                      },
                      {
                        "bin_start": 150968.40000000002,
                        "bin_end": 176111.30000000002,
                        "count": 4
                      },
                      {
                        "bin_start": 176111.30000000002,
                        "bin_end": 201254.2,
                        "count": 0
                      },
                      {
                        "bin_start": 201254.2,
                        "bin_end": 226397.1,
                        "count": 0
                      },
                      {
                        "bin_start": 226397.1,
                        "bin_end": 251540,
                        "count": 2
                      }
                    ]
                  }
                },
                {
                  "name": "Part_time",
                  "dtype": "int64",
                  "stats": {
                    "unique_count": 170,
                    "nan_count": 0,
                    "min": "0",
                    "max": "115172",
                    "histogram": [
                      {
                        "bin_start": 0,
                        "bin_end": 11517.2,
                        "count": 134
                      },
                      {
                        "bin_start": 11517.2,
                        "bin_end": 23034.4,
                        "count": 19
                      },
                      {
                        "bin_start": 23034.4,
                        "bin_end": 34551.600000000006,
                        "count": 8
                      },
                      {
                        "bin_start": 34551.600000000006,
                        "bin_end": 46068.8,
                        "count": 7
                      },
                      {
                        "bin_start": 46068.8,
                        "bin_end": 57586,
                        "count": 2
                      },
                      {
                        "bin_start": 57586,
                        "bin_end": 69103.20000000001,
                        "count": 1
                      },
                      {
                        "bin_start": 69103.20000000001,
                        "bin_end": 80620.40000000001,
                        "count": 1
                      },
                      {
                        "bin_start": 80620.40000000001,
                        "bin_end": 92137.6,
                        "count": 0
                      },
                      {
                        "bin_start": 92137.6,
                        "bin_end": 103654.8,
                        "count": 0
                      },
                      {
                        "bin_start": 103654.8,
                        "bin_end": 115172,
                        "count": 1
                      }
                    ]
                  }
                },
                {
                  "name": "Full_time_year_round",
                  "dtype": "int64",
                  "stats": {
                    "unique_count": 173,
                    "nan_count": 0,
                    "min": "111",
                    "max": "199897",
                    "histogram": [
                      {
                        "bin_start": 111,
                        "bin_end": 20089.6,
                        "count": 132
                      },
                      {
                        "bin_start": 20089.6,
                        "bin_end": 40068.2,
                        "count": 19
                      },
                      {
                        "bin_start": 40068.2,
                        "bin_end": 60046.799999999996,
                        "count": 6
                      },
                      {
                        "bin_start": 60046.799999999996,
                        "bin_end": 80025.4,
                        "count": 3
                      },
                      {
                        "bin_start": 80025.4,
                        "bin_end": 100004,
                        "count": 4
                      },
                      {
                        "bin_start": 100004,
                        "bin_end": 119982.59999999999,
                        "count": 3
                      },
                      {
                        "bin_start": 119982.59999999999,
                        "bin_end": 139961.19999999998,
                        "count": 4
                      },
                      {
                        "bin_start": 139961.19999999998,
                        "bin_end": 159939.8,
                        "count": 0
                      },
                      {
                        "bin_start": 159939.8,
                        "bin_end": 179918.4,
                        "count": 1
                      },
                      {
                        "bin_start": 179918.4,
                        "bin_end": 199897,
                        "count": 1
                      }
                    ]
                  }
                },
                {
                  "name": "Unemployed",
                  "dtype": "int64",
                  "stats": {
                    "unique_count": 161,
                    "nan_count": 0,
                    "min": "0",
                    "max": "28169",
                    "histogram": [
                      {
                        "bin_start": 0,
                        "bin_end": 2816.9,
                        "count": 133
                      },
                      {
                        "bin_start": 2816.9,
                        "bin_end": 5633.8,
                        "count": 21
                      },
                      {
                        "bin_start": 5633.8,
                        "bin_end": 8450.7,
                        "count": 3
                      },
                      {
                        "bin_start": 8450.7,
                        "bin_end": 11267.6,
                        "count": 5
                      },
                      {
                        "bin_start": 11267.6,
                        "bin_end": 14084.5,
                        "count": 5
                      },
                      {
                        "bin_start": 14084.5,
                        "bin_end": 16901.4,
                        "count": 4
                      },
                      {
                        "bin_start": 16901.4,
                        "bin_end": 19718.3,
                        "count": 0
                      },
                      {
                        "bin_start": 19718.3,
                        "bin_end": 22535.2,
                        "count": 1
                      },
                      {
                        "bin_start": 22535.2,
                        "bin_end": 25352.100000000002,
                        "count": 0
                      },
                      {
                        "bin_start": 25352.100000000002,
                        "bin_end": 28169,
                        "count": 1
                      }
                    ]
                  }
                },
                {
                  "name": "Unemployment_rate",
                  "dtype": "float64",
                  "stats": {
                    "unique_count": 169,
                    "nan_count": 0,
                    "min": "0.0",
                    "max": "0.177226407",
                    "histogram": [
                      {
                        "bin_start": 0,
                        "bin_end": 0.0177226407,
                        "count": 8
                      },
                      {
                        "bin_start": 0.0177226407,
                        "bin_end": 0.0354452814,
                        "count": 14
                      },
                      {
                        "bin_start": 0.0354452814,
                        "bin_end": 0.0531679221,
                        "count": 27
                      },
                      {
                        "bin_start": 0.0531679221,
                        "bin_end": 0.0708905628,
                        "count": 48
                      },
                      {
                        "bin_start": 0.0708905628,
                        "bin_end": 0.0886132035,
                        "count": 34
                      },
                      {
                        "bin_start": 0.0886132035,
                        "bin_end": 0.1063358442,
                        "count": 28
                      },
                      {
                        "bin_start": 0.1063358442,
                        "bin_end": 0.1240584849,
                        "count": 9
                      },
                      {
                        "bin_start": 0.1240584849,
                        "bin_end": 0.1417811256,
                        "count": 1
                      },
                      {
                        "bin_start": 0.1417811256,
                        "bin_end": 0.15950376630000002,
                        "count": 3
                      },
                      {
                        "bin_start": 0.15950376630000002,
                        "bin_end": 0.177226407,
                        "count": 1
                      }
                    ]
                  }
                },
                {
                  "name": "Median",
                  "dtype": "int64",
                  "stats": {
                    "unique_count": 59,
                    "nan_count": 0,
                    "min": "22000",
                    "max": "110000",
                    "histogram": [
                      {
                        "bin_start": 22000,
                        "bin_end": 30800,
                        "count": 24
                      },
                      {
                        "bin_start": 30800,
                        "bin_end": 39600,
                        "count": 75
                      },
                      {
                        "bin_start": 39600,
                        "bin_end": 48400,
                        "count": 40
                      },
                      {
                        "bin_start": 48400,
                        "bin_end": 57200,
                        "count": 19
                      },
                      {
                        "bin_start": 57200,
                        "bin_end": 66000,
                        "count": 11
                      },
                      {
                        "bin_start": 66000,
                        "bin_end": 74800,
                        "count": 2
                      },
                      {
                        "bin_start": 74800,
                        "bin_end": 83600,
                        "count": 1
                      },
                      {
                        "bin_start": 83600,
                        "bin_end": 92400,
                        "count": 0
                      },
                      {
                        "bin_start": 92400,
                        "bin_end": 101200,
                        "count": 0
                      },
                      {
                        "bin_start": 101200,
                        "bin_end": 110000,
                        "count": 1
                      }
                    ]
                  }
                },
                {
                  "name": "P25th",
                  "dtype": "int64",
                  "stats": {
                    "unique_count": 48,
                    "nan_count": 0,
                    "min": "18500",
                    "max": "95000",
                    "histogram": [
                      {
                        "bin_start": 18500,
                        "bin_end": 26150,
                        "count": 82
                      },
                      {
                        "bin_start": 26150,
                        "bin_end": 33800,
                        "count": 48
                      },
                      {
                        "bin_start": 33800,
                        "bin_end": 41450,
                        "count": 28
                      },
                      {
                        "bin_start": 41450,
                        "bin_end": 49100,
                        "count": 8
                      },
                      {
                        "bin_start": 49100,
                        "bin_end": 56750,
                        "count": 6
                      },
                      {
                        "bin_start": 56750,
                        "bin_end": 64400,
                        "count": 0
                      },
                      {
                        "bin_start": 64400,
                        "bin_end": 72050,
                        "count": 0
                      },
                      {
                        "bin_start": 72050,
                        "bin_end": 79700,
                        "count": 0
                      },
                      {
                        "bin_start": 79700,
                        "bin_end": 87350,
                        "count": 0
                      },
                      {
                        "bin_start": 87350,
                        "bin_end": 95000,
                        "count": 1
                      }
                    ]
                  }
                },
                {
                  "name": "P75th",
                  "dtype": "int64",
                  "stats": {
                    "unique_count": 54,
                    "nan_count": 0,
                    "min": "22000",
                    "max": "125000",
                    "histogram": [
                      {
                        "bin_start": 22000,
                        "bin_end": 32300,
                        "count": 2
                      },
                      {
                        "bin_start": 32300,
                        "bin_end": 42600,
                        "count": 53
                      },
                      {
                        "bin_start": 42600,
                        "bin_end": 52900,
                        "count": 59
                      },
                      {
                        "bin_start": 52900,
                        "bin_end": 63200,
                        "count": 28
                      },
                      {
                        "bin_start": 63200,
                        "bin_end": 73500,
                        "count": 19
                      },
                      {
                        "bin_start": 73500,
                        "bin_end": 83800,
                        "count": 6
                      },
                      {
                        "bin_start": 83800,
                        "bin_end": 94100,
                        "count": 2
                      },
                      {
                        "bin_start": 94100,
                        "bin_end": 104400,
                        "count": 1
                      },
                      {
                        "bin_start": 104400,
                        "bin_end": 114700,
                        "count": 2
                      },
                      {
                        "bin_start": 114700,
                        "bin_end": 125000,
                        "count": 1
                      }
                    ]
                  }
                },
                {
                  "name": "College_jobs",
                  "dtype": "int64",
                  "stats": {
                    "unique_count": 173,
                    "nan_count": 0,
                    "min": "0",
                    "max": "151643",
                    "histogram": [
                      {
                        "bin_start": 0,
                        "bin_end": 15164.3,
                        "count": 131
                      },
                      {
                        "bin_start": 15164.3,
                        "bin_end": 30328.6,
                        "count": 26
                      },
                      {
                        "bin_start": 30328.6,
                        "bin_end": 45492.899999999994,
                        "count": 7
                      },
                      {
                        "bin_start": 45492.899999999994,
                        "bin_end": 60657.2,
                        "count": 3
                      },
                      {
                        "bin_start": 60657.2,
                        "bin_end": 75821.5,
                        "count": 1
                      },
                      {
                        "bin_start": 75821.5,
                        "bin_end": 90985.79999999999,
                        "count": 2
                      },
                      {
                        "bin_start": 90985.79999999999,
                        "bin_end": 106150.09999999999,
                        "count": 0
                      },
                      {
                        "bin_start": 106150.09999999999,
                        "bin_end": 121314.4,
                        "count": 1
                      },
                      {
                        "bin_start": 121314.4,
                        "bin_end": 136478.69999999998,
                        "count": 1
                      },
                      {
                        "bin_start": 136478.69999999998,
                        "bin_end": 151643,
                        "count": 1
                      }
                    ]
                  }
                },
                {
                  "name": "Non_college_jobs",
                  "dtype": "int64",
                  "stats": {
                    "unique_count": 173,
                    "nan_count": 0,
                    "min": "0",
                    "max": "148395",
                    "histogram": [
                      {
                        "bin_start": 0,
                        "bin_end": 14839.5,
                        "count": 138
                      },
                      {
                        "bin_start": 14839.5,
                        "bin_end": 29679,
                        "count": 16
                      },
                      {
                        "bin_start": 29679,
                        "bin_end": 44518.5,
                        "count": 6
                      },
                      {
                        "bin_start": 44518.5,
                        "bin_end": 59358,
                        "count": 3
                      },
                      {
                        "bin_start": 59358,
                        "bin_end": 74197.5,
                        "count": 3
                      },
                      {
                        "bin_start": 74197.5,
                        "bin_end": 89037,
                        "count": 2
                      },
                      {
                        "bin_start": 89037,
                        "bin_end": 103876.5,
                        "count": 3
                      },
                      {
                        "bin_start": 103876.5,
                        "bin_end": 118716,
                        "count": 0
                      },
                      {
                        "bin_start": 118716,
                        "bin_end": 133555.5,
                        "count": 0
                      },
                      {
                        "bin_start": 133555.5,
                        "bin_end": 148395,
                        "count": 2
                      }
                    ]
                  }
                },
                {
                  "name": "Low_wage_jobs",
                  "dtype": "int64",
                  "stats": {
                    "unique_count": 166,
                    "nan_count": 0,
                    "min": "0",
                    "max": "48207",
                    "histogram": [
                      {
                        "bin_start": 0,
                        "bin_end": 4820.7,
                        "count": 138
                      },
                      {
                        "bin_start": 4820.7,
                        "bin_end": 9641.4,
                        "count": 15
                      },
                      {
                        "bin_start": 9641.4,
                        "bin_end": 14462.099999999999,
                        "count": 8
                      },
                      {
                        "bin_start": 14462.099999999999,
                        "bin_end": 19282.8,
                        "count": 4
                      },
                      {
                        "bin_start": 19282.8,
                        "bin_end": 24103.5,
                        "count": 1
                      },
                      {
                        "bin_start": 24103.5,
                        "bin_end": 28924.199999999997,
                        "count": 5
                      },
                      {
                        "bin_start": 28924.199999999997,
                        "bin_end": 33744.9,
                        "count": 1
                      },
                      {
                        "bin_start": 33744.9,
                        "bin_end": 38565.6,
                        "count": 0
                      },
                      {
                        "bin_start": 38565.6,
                        "bin_end": 43386.299999999996,
                        "count": 0
                      },
                      {
                        "bin_start": 43386.299999999996,
                        "bin_end": 48207,
                        "count": 1
                      }
                    ]
                  }
                },
                {
                  "name": "_deepnote_index_column",
                  "dtype": "int64"
                }
              ],
              "rows": [
                {
                  "Rank": 1,
                  "Major_code": 2419,
                  "Major": "PETROLEUM ENGINEERING",
                  "Total": 2339,
                  "Men": 2057,
                  "Women": 282,
                  "Major_category": "Engineering",
                  "ShareWomen": 0.120564344,
                  "Sample_size": 36,
                  "Employed": 1976,
                  "Full_time": 1849,
                  "Part_time": 270,
                  "Full_time_year_round": 1207,
                  "Unemployed": 37,
                  "Unemployment_rate": 0.018380527,
                  "Median": 110000,
                  "P25th": 95000,
                  "P75th": 125000,
                  "College_jobs": 1534,
                  "Non_college_jobs": 364,
                  "Low_wage_jobs": 193,
                  "_deepnote_index_column": 0
                },
                {
                  "Rank": 2,
                  "Major_code": 2416,
                  "Major": "MINING AND MINERAL ENGINEERING",
                  "Total": 756,
                  "Men": 679,
                  "Women": 77,
                  "Major_category": "Engineering",
                  "ShareWomen": 0.101851852,
                  "Sample_size": 7,
                  "Employed": 640,
                  "Full_time": 556,
                  "Part_time": 170,
                  "Full_time_year_round": 388,
                  "Unemployed": 85,
                  "Unemployment_rate": 0.117241379,
                  "Median": 75000,
                  "P25th": 55000,
                  "P75th": 90000,
                  "College_jobs": 350,
                  "Non_college_jobs": 257,
                  "Low_wage_jobs": 50,
                  "_deepnote_index_column": 1
                },
                {
                  "Rank": 3,
                  "Major_code": 2415,
                  "Major": "METALLURGICAL ENGINEERING",
                  "Total": 856,
                  "Men": 725,
                  "Women": 131,
                  "Major_category": "Engineering",
                  "ShareWomen": 0.153037383,
                  "Sample_size": 3,
                  "Employed": 648,
                  "Full_time": 558,
                  "Part_time": 133,
                  "Full_time_year_round": 340,
                  "Unemployed": 16,
                  "Unemployment_rate": 0.024096386,
                  "Median": 73000,
                  "P25th": 50000,
                  "P75th": 105000,
                  "College_jobs": 456,
                  "Non_college_jobs": 176,
                  "Low_wage_jobs": 0,
                  "_deepnote_index_column": 2
                },
                {
                  "Rank": 4,
                  "Major_code": 2417,
                  "Major": "NAVAL ARCHITECTURE AND MARINE ENGINEERING",
                  "Total": 1258,
                  "Men": 1123,
                  "Women": 135,
                  "Major_category": "Engineering",
                  "ShareWomen": 0.107313196,
                  "Sample_size": 16,
                  "Employed": 758,
                  "Full_time": 1069,
                  "Part_time": 150,
                  "Full_time_year_round": 692,
                  "Unemployed": 40,
                  "Unemployment_rate": 0.050125313,
                  "Median": 70000,
                  "P25th": 43000,
                  "P75th": 80000,
                  "College_jobs": 529,
                  "Non_college_jobs": 102,
                  "Low_wage_jobs": 0,
                  "_deepnote_index_column": 3
                },
                {
                  "Rank": 5,
                  "Major_code": 2405,
                  "Major": "CHEMICAL ENGINEERING",
                  "Total": 32260,
                  "Men": 21239,
                  "Women": 11021,
                  "Major_category": "Engineering",
                  "ShareWomen": 0.341630502,
                  "Sample_size": 289,
                  "Employed": 25694,
                  "Full_time": 23170,
                  "Part_time": 5180,
                  "Full_time_year_round": 16697,
                  "Unemployed": 1672,
                  "Unemployment_rate": 0.061097712,
                  "Median": 65000,
                  "P25th": 50000,
                  "P75th": 75000,
                  "College_jobs": 18314,
                  "Non_college_jobs": 4440,
                  "Low_wage_jobs": 972,
                  "_deepnote_index_column": 4
                },
                {
                  "Rank": 6,
                  "Major_code": 2418,
                  "Major": "NUCLEAR ENGINEERING",
                  "Total": 2573,
                  "Men": 2200,
                  "Women": 373,
                  "Major_category": "Engineering",
                  "ShareWomen": 0.144966965,
                  "Sample_size": 17,
                  "Employed": 1857,
                  "Full_time": 2038,
                  "Part_time": 264,
                  "Full_time_year_round": 1449,
                  "Unemployed": 400,
                  "Unemployment_rate": 0.177226407,
                  "Median": 65000,
                  "P25th": 50000,
                  "P75th": 102000,
                  "College_jobs": 1142,
                  "Non_college_jobs": 657,
                  "Low_wage_jobs": 244,
                  "_deepnote_index_column": 5
                },
                {
                  "Rank": 7,
                  "Major_code": 6202,
                  "Major": "ACTUARIAL SCIENCE",
                  "Total": 3777,
                  "Men": 2110,
                  "Women": 1667,
                  "Major_category": "Business",
                  "ShareWomen": 0.441355573,
                  "Sample_size": 51,
                  "Employed": 2912,
                  "Full_time": 2924,
                  "Part_time": 296,
                  "Full_time_year_round": 2482,
                  "Unemployed": 308,
                  "Unemployment_rate": 0.095652174,
                  "Median": 62000,
                  "P25th": 53000,
                  "P75th": 72000,
                  "College_jobs": 1768,
                  "Non_college_jobs": 314,
                  "Low_wage_jobs": 259,
                  "_deepnote_index_column": 6
                },
                {
                  "Rank": 8,
                  "Major_code": 5001,
                  "Major": "ASTRONOMY AND ASTROPHYSICS",
                  "Total": 1792,
                  "Men": 832,
                  "Women": 960,
                  "Major_category": "Physical Sciences",
                  "ShareWomen": 0.535714286,
                  "Sample_size": 10,
                  "Employed": 1526,
                  "Full_time": 1085,
                  "Part_time": 553,
                  "Full_time_year_round": 827,
                  "Unemployed": 33,
                  "Unemployment_rate": 0.021167415,
                  "Median": 62000,
                  "P25th": 31500,
                  "P75th": 109000,
                  "College_jobs": 972,
                  "Non_college_jobs": 500,
                  "Low_wage_jobs": 220,
                  "_deepnote_index_column": 7
                },
                {
                  "Rank": 9,
                  "Major_code": 2414,
                  "Major": "MECHANICAL ENGINEERING",
                  "Total": 91227,
                  "Men": 80320,
                  "Women": 10907,
                  "Major_category": "Engineering",
                  "ShareWomen": 0.119558903,
                  "Sample_size": 1029,
                  "Employed": 76442,
                  "Full_time": 71298,
                  "Part_time": 13101,
                  "Full_time_year_round": 54639,
                  "Unemployed": 4650,
                  "Unemployment_rate": 0.057342278,
                  "Median": 60000,
                  "P25th": 48000,
                  "P75th": 70000,
                  "College_jobs": 52844,
                  "Non_college_jobs": 16384,
                  "Low_wage_jobs": 3253,
                  "_deepnote_index_column": 8
                },
                {
                  "Rank": 10,
                  "Major_code": 2408,
                  "Major": "ELECTRICAL ENGINEERING",
                  "Total": 81527,
                  "Men": 65511,
                  "Women": 16016,
                  "Major_category": "Engineering",
                  "ShareWomen": 0.196450256,
                  "Sample_size": 631,
                  "Employed": 61928,
                  "Full_time": 55450,
                  "Part_time": 12695,
                  "Full_time_year_round": 41413,
                  "Unemployed": 3895,
                  "Unemployment_rate": 0.059173845,
                  "Median": 60000,
                  "P25th": 45000,
                  "P75th": 72000,
                  "College_jobs": 45829,
                  "Non_college_jobs": 10874,
                  "Low_wage_jobs": 3170,
                  "_deepnote_index_column": 9
                }
              ]
            },
            "text/plain": "     Rank  Major_code                                      Major    Total  \\\n0       1        2419                      PETROLEUM ENGINEERING   2339.0   \n1       2        2416             MINING AND MINERAL ENGINEERING    756.0   \n2       3        2415                  METALLURGICAL ENGINEERING    856.0   \n3       4        2417  NAVAL ARCHITECTURE AND MARINE ENGINEERING   1258.0   \n4       5        2405                       CHEMICAL ENGINEERING  32260.0   \n..    ...         ...                                        ...      ...   \n168   169        3609                                    ZOOLOGY   8409.0   \n169   170        5201                     EDUCATIONAL PSYCHOLOGY   2854.0   \n170   171        5202                        CLINICAL PSYCHOLOGY   2838.0   \n171   172        5203                      COUNSELING PSYCHOLOGY   4626.0   \n172   173        3501                            LIBRARY SCIENCE   1098.0   \n\n         Men    Women            Major_category  ShareWomen  Sample_size  \\\n0     2057.0    282.0               Engineering    0.120564           36   \n1      679.0     77.0               Engineering    0.101852            7   \n2      725.0    131.0               Engineering    0.153037            3   \n3     1123.0    135.0               Engineering    0.107313           16   \n4    21239.0  11021.0               Engineering    0.341631          289   \n..       ...      ...                       ...         ...          ...   \n168   3050.0   5359.0    Biology & Life Science    0.637293           47   \n169    522.0   2332.0  Psychology & Social Work    0.817099            7   \n170    568.0   2270.0  Psychology & Social Work    0.799859           13   \n171    931.0   3695.0  Psychology & Social Work    0.798746           21   \n172    134.0    964.0                 Education    0.877960            2   \n\n     Employed  ...  Part_time  Full_time_year_round  Unemployed  \\\n0        1976  ...        270                  1207          37   \n1         640  ...        170                   388          85   \n2         648  ...        133                   340          16   \n3         758  ...        150                   692          40   \n4       25694  ...       5180                 16697        1672   \n..        ...  ...        ...                   ...         ...   \n168      6259  ...       2190                  3602         304   \n169      2125  ...        572                  1211         148   \n170      2101  ...        648                  1293         368   \n171      3777  ...        965                  2738         214   \n172       742  ...        237                   410          87   \n\n     Unemployment_rate  Median  P25th   P75th  College_jobs  Non_college_jobs  \\\n0             0.018381  110000  95000  125000          1534               364   \n1             0.117241   75000  55000   90000           350               257   \n2             0.024096   73000  50000  105000           456               176   \n3             0.050125   70000  43000   80000           529               102   \n4             0.061098   65000  50000   75000         18314              4440   \n..                 ...     ...    ...     ...           ...               ...   \n168           0.046320   26000  20000   39000          2771              2947   \n169           0.065112   25000  24000   34000          1488               615   \n170           0.149048   25000  25000   40000           986               870   \n171           0.053621   23400  19200   26000          2403              1245   \n172           0.104946   22000  20000   22000           288               338   \n\n     Low_wage_jobs  \n0              193  \n1               50  \n2                0  \n3                0  \n4              972  \n..             ...  \n168            743  \n169             82  \n170            622  \n171            308  \n172            192  \n\n[173 rows x 21 columns]",
            "text/html": "<div>\n<style scoped>\n    .dataframe tbody tr th:only-of-type {\n        vertical-align: middle;\n    }\n\n    .dataframe tbody tr th {\n        vertical-align: top;\n    }\n\n    .dataframe thead th {\n        text-align: right;\n    }\n</style>\n<table border=\"1\" class=\"dataframe\">\n  <thead>\n    <tr style=\"text-align: right;\">\n      <th></th>\n      <th>Rank</th>\n      <th>Major_code</th>\n      <th>Major</th>\n      <th>Total</th>\n      <th>Men</th>\n      <th>Women</th>\n      <th>Major_category</th>\n      <th>ShareWomen</th>\n      <th>Sample_size</th>\n      <th>Employed</th>\n      <th>...</th>\n      <th>Part_time</th>\n      <th>Full_time_year_round</th>\n      <th>Unemployed</th>\n      <th>Unemployment_rate</th>\n      <th>Median</th>\n      <th>P25th</th>\n      <th>P75th</th>\n      <th>College_jobs</th>\n      <th>Non_college_jobs</th>\n      <th>Low_wage_jobs</th>\n    </tr>\n  </thead>\n  <tbody>\n    <tr>\n      <th>0</th>\n      <td>1</td>\n      <td>2419</td>\n      <td>PETROLEUM ENGINEERING</td>\n      <td>2339.0</td>\n      <td>2057.0</td>\n      <td>282.0</td>\n      <td>Engineering</td>\n      <td>0.120564</td>\n      <td>36</td>\n      <td>1976</td>\n      <td>...</td>\n      <td>270</td>\n      <td>1207</td>\n      <td>37</td>\n      <td>0.018381</td>\n      <td>110000</td>\n      <td>95000</td>\n      <td>125000</td>\n      <td>1534</td>\n      <td>364</td>\n      <td>193</td>\n    </tr>\n    <tr>\n      <th>1</th>\n      <td>2</td>\n      <td>2416</td>\n      <td>MINING AND MINERAL ENGINEERING</td>\n      <td>756.0</td>\n      <td>679.0</td>\n      <td>77.0</td>\n      <td>Engineering</td>\n      <td>0.101852</td>\n      <td>7</td>\n      <td>640</td>\n      <td>...</td>\n      <td>170</td>\n      <td>388</td>\n      <td>85</td>\n      <td>0.117241</td>\n      <td>75000</td>\n      <td>55000</td>\n      <td>90000</td>\n      <td>350</td>\n      <td>257</td>\n      <td>50</td>\n    </tr>\n    <tr>\n      <th>2</th>\n      <td>3</td>\n      <td>2415</td>\n      <td>METALLURGICAL ENGINEERING</td>\n      <td>856.0</td>\n      <td>725.0</td>\n      <td>131.0</td>\n      <td>Engineering</td>\n      <td>0.153037</td>\n      <td>3</td>\n      <td>648</td>\n      <td>...</td>\n      <td>133</td>\n      <td>340</td>\n      <td>16</td>\n      <td>0.024096</td>\n      <td>73000</td>\n      <td>50000</td>\n      <td>105000</td>\n      <td>456</td>\n      <td>176</td>\n      <td>0</td>\n    </tr>\n    <tr>\n      <th>3</th>\n      <td>4</td>\n      <td>2417</td>\n      <td>NAVAL ARCHITECTURE AND MARINE ENGINEERING</td>\n      <td>1258.0</td>\n      <td>1123.0</td>\n      <td>135.0</td>\n      <td>Engineering</td>\n      <td>0.107313</td>\n      <td>16</td>\n      <td>758</td>\n      <td>...</td>\n      <td>150</td>\n      <td>692</td>\n      <td>40</td>\n      <td>0.050125</td>\n      <td>70000</td>\n      <td>43000</td>\n      <td>80000</td>\n      <td>529</td>\n      <td>102</td>\n      <td>0</td>\n    </tr>\n    <tr>\n      <th>4</th>\n      <td>5</td>\n      <td>2405</td>\n      <td>CHEMICAL ENGINEERING</td>\n      <td>32260.0</td>\n      <td>21239.0</td>\n      <td>11021.0</td>\n      <td>Engineering</td>\n      <td>0.341631</td>\n      <td>289</td>\n      <td>25694</td>\n      <td>...</td>\n      <td>5180</td>\n      <td>16697</td>\n      <td>1672</td>\n      <td>0.061098</td>\n      <td>65000</td>\n      <td>50000</td>\n      <td>75000</td>\n      <td>18314</td>\n      <td>4440</td>\n      <td>972</td>\n    </tr>\n    <tr>\n      <th>...</th>\n      <td>...</td>\n      <td>...</td>\n      <td>...</td>\n      <td>...</td>\n      <td>...</td>\n      <td>...</td>\n      <td>...</td>\n      <td>...</td>\n      <td>...</td>\n      <td>...</td>\n      <td>...</td>\n      <td>...</td>\n      <td>...</td>\n      <td>...</td>\n      <td>...</td>\n      <td>...</td>\n      <td>...</td>\n      <td>...</td>\n      <td>...</td>\n      <td>...</td>\n      <td>...</td>\n    </tr>\n    <tr>\n      <th>168</th>\n      <td>169</td>\n      <td>3609</td>\n      <td>ZOOLOGY</td>\n      <td>8409.0</td>\n      <td>3050.0</td>\n      <td>5359.0</td>\n      <td>Biology &amp; Life Science</td>\n      <td>0.637293</td>\n      <td>47</td>\n      <td>6259</td>\n      <td>...</td>\n      <td>2190</td>\n      <td>3602</td>\n      <td>304</td>\n      <td>0.046320</td>\n      <td>26000</td>\n      <td>20000</td>\n      <td>39000</td>\n      <td>2771</td>\n      <td>2947</td>\n      <td>743</td>\n    </tr>\n    <tr>\n      <th>169</th>\n      <td>170</td>\n      <td>5201</td>\n      <td>EDUCATIONAL PSYCHOLOGY</td>\n      <td>2854.0</td>\n      <td>522.0</td>\n      <td>2332.0</td>\n      <td>Psychology &amp; Social Work</td>\n      <td>0.817099</td>\n      <td>7</td>\n      <td>2125</td>\n      <td>...</td>\n      <td>572</td>\n      <td>1211</td>\n      <td>148</td>\n      <td>0.065112</td>\n      <td>25000</td>\n      <td>24000</td>\n      <td>34000</td>\n      <td>1488</td>\n      <td>615</td>\n      <td>82</td>\n    </tr>\n    <tr>\n      <th>170</th>\n      <td>171</td>\n      <td>5202</td>\n      <td>CLINICAL PSYCHOLOGY</td>\n      <td>2838.0</td>\n      <td>568.0</td>\n      <td>2270.0</td>\n      <td>Psychology &amp; Social Work</td>\n      <td>0.799859</td>\n      <td>13</td>\n      <td>2101</td>\n      <td>...</td>\n      <td>648</td>\n      <td>1293</td>\n      <td>368</td>\n      <td>0.149048</td>\n      <td>25000</td>\n      <td>25000</td>\n      <td>40000</td>\n      <td>986</td>\n      <td>870</td>\n      <td>622</td>\n    </tr>\n    <tr>\n      <th>171</th>\n      <td>172</td>\n      <td>5203</td>\n      <td>COUNSELING PSYCHOLOGY</td>\n      <td>4626.0</td>\n      <td>931.0</td>\n      <td>3695.0</td>\n      <td>Psychology &amp; Social Work</td>\n      <td>0.798746</td>\n      <td>21</td>\n      <td>3777</td>\n      <td>...</td>\n      <td>965</td>\n      <td>2738</td>\n      <td>214</td>\n      <td>0.053621</td>\n      <td>23400</td>\n      <td>19200</td>\n      <td>26000</td>\n      <td>2403</td>\n      <td>1245</td>\n      <td>308</td>\n    </tr>\n    <tr>\n      <th>172</th>\n      <td>173</td>\n      <td>3501</td>\n      <td>LIBRARY SCIENCE</td>\n      <td>1098.0</td>\n      <td>134.0</td>\n      <td>964.0</td>\n      <td>Education</td>\n      <td>0.877960</td>\n      <td>2</td>\n      <td>742</td>\n      <td>...</td>\n      <td>237</td>\n      <td>410</td>\n      <td>87</td>\n      <td>0.104946</td>\n      <td>22000</td>\n      <td>20000</td>\n      <td>22000</td>\n      <td>288</td>\n      <td>338</td>\n      <td>192</td>\n    </tr>\n  </tbody>\n</table>\n<p>173 rows × 21 columns</p>\n</div>"
          },
          "metadata": {}
        }
      ]
    },
    {
      "cell_type": "code",
      "metadata": {
        "source_hash": "14f60b8f",
        "execution_start": 1701844363798,
        "execution_millis": 7,
        "deepnote_to_be_reexecuted": false,
        "cell_id": "d4e4700ae036466aab62aebf68570fc4",
        "deepnote_cell_type": "code",
        "id": "R69VrqGTUfgJ",
        "outputId": "1149cd4f-c86f-4845-e829-75ac6667b4fc"
      },
      "source": [
        "df.shape"
      ],
      "execution_count": null,
      "outputs": [
        {
          "output_type": "execute_result",
          "execution_count": 12,
          "data": {
            "text/plain": "(173, 21)"
          },
          "metadata": {}
        }
      ]
    },
    {
      "cell_type": "code",
      "metadata": {
        "cell_id": "1f9383ea76ef4c1d92230a652eef1c60",
        "deepnote_cell_type": "code",
        "id": "Vgc18mttUfgK"
      },
      "source": [],
      "execution_count": null,
      "outputs": []
    },
    {
      "cell_type": "markdown",
      "source": [
        "<a style='text-decoration:none;line-height:16px;display:flex;color:#5B5B62;padding:10px;justify-content:end;' href='https://deepnote.com?utm_source=created-in-deepnote-cell&projectId=1ddad972-b280-4e94-9380-6dab3142ab79' target=\"_blank\">\n",
        "<img alt='Created in deepnote.com' style='display:inline;max-height:16px;margin:0px;margin-right:7.5px;' src='data:image/svg+xml;base64,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' > </img>\n",
        "Created in <span style='font-weight:600;margin-left:4px;'>Deepnote</span></a>"
      ],
      "metadata": {
        "created_in_deepnote_cell": true,
        "deepnote_cell_type": "markdown",
        "id": "PF-_utBPUfgK"
      }
    }
  ],
  "nbformat": 4,
  "nbformat_minor": 0,
  "metadata": {
    "deepnote": {},
    "orig_nbformat": 2,
    "deepnote_notebook_id": "0ce7395d7e75490786d827a7f5a59993",
    "deepnote_persisted_session": {
      "createdAt": "2023-12-06T06:15:40.233Z"
    },
    "deepnote_execution_queue": [],
    "colab": {
      "provenance": []
    }
  }
}